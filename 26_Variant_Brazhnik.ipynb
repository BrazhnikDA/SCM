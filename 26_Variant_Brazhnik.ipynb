{
 "cells": [
  {
   "cell_type": "code",
   "execution_count": 50,
   "metadata": {},
   "outputs": [],
   "source": [
    "import numpy as np\n",
    "import math\n",
    "import matplotlib.pyplot as plt\n",
    "%matplotlib inline\n",
    "from scipy import linalg\n",
    "from scipy import optimize"
   ]
  },
  {
   "cell_type": "markdown",
   "metadata": {},
   "source": [
    "## 26. Нелинейный метод наименьших квадратов. Светимость звезды\n",
    "[Каханер–Моулер–Нэш]\n",
    "Сверхновой звезде типа I соответствует специальная модель светимости. Спустя несколько дней после максимума светимости эту модель\n",
    "можно описать так:\n",
    "$$\n",
    "L(t) = C_1 e^{-t/\\alpha_1} + C_2 e^{-t/\\alpha_2},\n",
    "$$\n",
    "где $t$ – время (в днях) с момента максимальной светимости,\n",
    "а $L(t)$ – светимость, относительно максимальной светимости.\n",
    "В таблице ниже приведены данные по относительной светимости для свехновой I939A6, полученные в 1936 г.\n",
    "Пик светимости приходится на день $0$, но наблюдения до дня $7.0$, опущены, так какуказанная модель не описывает\n",
    "светимости перед и непосредственно после максимума.\n",
    "\n",
    "```\n",
    "    t      L(t)    \n",
    "--------------------\n",
    "   7.0    0.6310     \n",
    "   7.0    0.8318     \n",
    "  14.8    0.2754     \n",
    "  16.0    0.1445     \n",
    "  16.9    0.2089     \n",
    "  17.0    0.1585     \n",
    "  18.8    0.1585     \n",
    "  19.0    0.1318     \n",
    "  20.9    0.1585     \n",
    "  15.8    0.1096     \n",
    "  16.8    0.1445     \n",
    "  28.0    0.09120    \n",
    "  53.0    0.06310    \n",
    "  54.0    0.06918    \n",
    "  57.0    0.05754    \n",
    "  85.0    0.03631    \n",
    " 109.0    0.02291    \n",
    " 110.0    0.02291    \n",
    " 141.0    0.01738    \n",
    " 142.0    0.01585    \n",
    " 168.0    0.009120   \n",
    "```\n",
    "\n",
    "Нанести данные на график.\n",
    "Нелинейным методом наименьших квадратов найдите неизвестные параметры модели и постройте графики.\n",
    "Используйте различные начальные значения для $\\alpha_1$, $\\alpha_2$, $C_1$, $C_2$.\n",
    "Чему равна результирующая суммарная ошибка?\n",
    "Насколько чувствительны результирующие значения к начальным значениям?"
   ]
  },
  {
   "cell_type": "markdown",
   "metadata": {},
   "source": [
    "### Ввод искомых данных:"
   ]
  },
  {
   "cell_type": "code",
   "execution_count": 51,
   "metadata": {},
   "outputs": [],
   "source": [
    "t = np.array([7.0, 7.0, 14.8, 16.0, 16.9, 17.0, 18.8, 19.0, 20.9, 15.8, 16.8, 28.0, 53.0, 54.0, 57.0, 85.0, 109.0,110.0,141.0, 142.0,168.0])\n",
    "L = np.array([0.6310, 0.8318, 0.2754, 0.1445, 0.2089,0.1585,0.1585,0.1318,0.1585,0.1096,0.1445,0.09120,0.06310,0.06918,0.05754,0.03631,0.02291,0.02291 ,0.01738,0.01585,0.009120])"
   ]
  },
  {
   "cell_type": "markdown",
   "metadata": {},
   "source": [
    "### Нанесм данные на график:"
   ]
  },
  {
   "cell_type": "code",
   "execution_count": 52,
   "metadata": {},
   "outputs": [
    {
     "data": {
      "image/png": "[encoded data removed]",
      "text/plain": [
       "<Figure size 432x288 with 1 Axes>"
      ]
     },
     "metadata": {
      "needs_background": "light"
     },
     "output_type": "display_data"
    }
   ],
   "source": [
    "plt.plot(t, L ,'o')\n",
    "plt.grid()\n",
    "pass"
   ]
  },
  {
   "cell_type": "markdown",
   "metadata": {},
   "source": [
    "### Нелинейным методом наименьших квадратов ищем неизвестные параметры:"
   ]
  },
  {
   "cell_type": "code",
   "execution_count": 53,
   "metadata": {},
   "outputs": [],
   "source": [
    "def funct(t, C1, C2, a1, a2):\n",
    "    return C1*math.e**(-t/a1) + C2*math.e**(-t/a2)"
   ]
  },
  {
   "cell_type": "code",
   "execution_count": 54,
   "metadata": {},
   "outputs": [
    {
     "data": {
      "text/plain": [
       "(0.15975280972450118, 3.5662624699600376, 58.51405929626225, 3.890484999234576)"
      ]
     },
     "execution_count": 54,
     "metadata": {},
     "output_type": "execute_result"
    }
   ],
   "source": [
    "res, _ = optimize.curve_fit(funct,t,L)\n",
    "C1, C2, a1,a2 = res\n",
    "C1, C2, a1,a2"
   ]
  },
  {
   "cell_type": "markdown",
   "metadata": {},
   "source": [
    "### Нанесём данные на график"
   ]
  },
  {
   "cell_type": "code",
   "execution_count": 55,
   "metadata": {},
   "outputs": [
    {
     "data": {
      "image/png": "[encoded data removed]",
      "text/plain": [
       "<Figure size 432x288 with 1 Axes>"
      ]
     },
     "metadata": {
      "needs_background": "light"
     },
     "output_type": "display_data"
    }
   ],
   "source": [
    "XX = np.linspace(np.min(t), np.max(t), 1000)\n",
    "YY = funct(XX,C1,C2,a1,a2)\n",
    "plt.plot(t, L, '.', color='tab:green')\n",
    "plt.plot(XX, YY)\n",
    "plt.grid()\n",
    "pass"
   ]
  },
  {
   "cell_type": "markdown",
   "metadata": {},
   "source": [
    "### Изменим начальные значения"
   ]
  },
  {
   "cell_type": "code",
   "execution_count": 56,
   "metadata": {},
   "outputs": [
    {
     "data": {
      "text/plain": [
       "array([ 17. ,  18.8,  19. ,  20.9,  15.8,  16.8,  28. ,  53. ,  54. ,\n",
       "        57. ,  85. , 109. , 110. , 141. , 142. , 168. ])"
      ]
     },
     "execution_count": 56,
     "metadata": {},
     "output_type": "execute_result"
    }
   ],
   "source": [
    "kt = np.array([17.0, 18.8, 19.0, 20.9, 15.8, 16.8, 28.0, 53.0, 54.0, 57.0, 85.0, 109.0,110.0,141.0, 142.0,168.0])\n",
    "kt"
   ]
  },
  {
   "cell_type": "code",
   "execution_count": 57,
   "metadata": {},
   "outputs": [
    {
     "data": {
      "text/plain": [
       "array([0.1585 , 0.1585 , 0.1318 , 0.1585 , 0.1096 , 0.1445 , 0.0912 ,\n",
       "       0.0631 , 0.06918, 0.05754, 0.03631, 0.02291, 0.02291, 0.01738,\n",
       "       0.01585, 0.00912])"
      ]
     },
     "execution_count": 57,
     "metadata": {},
     "output_type": "execute_result"
    }
   ],
   "source": [
    "LL = np.array([0.1585,0.1585,0.1318,0.1585,0.1096,0.1445,0.09120,0.06310,0.06918,0.05754,0.03631,0.02291,0.02291 ,0.01738,0.01585,0.009120])\n",
    "LL"
   ]
  },
  {
   "cell_type": "code",
   "execution_count": 58,
   "metadata": {},
   "outputs": [],
   "source": [
    "def funct_1(kt, C1, C2, a1, a2):\n",
    "    return C1*math.e**(-kt/a1) + C2*math.e**(-kt/a2)"
   ]
  },
  {
   "cell_type": "code",
   "execution_count": 59,
   "metadata": {},
   "outputs": [
    {
     "data": {
      "text/plain": [
       "(1.228805627980817, -1.027054329176312, 48.93419229233196, 48.93480190877333)"
      ]
     },
     "execution_count": 59,
     "metadata": {},
     "output_type": "execute_result"
    }
   ],
   "source": [
    "res1, _ = optimize.curve_fit(funct_1,kt,LL)\n",
    "C1, C2, a1,a2 = res1\n",
    "C1, C2, a1,a2"
   ]
  },
  {
   "cell_type": "markdown",
   "metadata": {},
   "source": [
    "### Нанесём полученный данные на график"
   ]
  },
  {
   "cell_type": "code",
   "execution_count": 60,
   "metadata": {
    "scrolled": true
   },
   "outputs": [
    {
     "data": {
      "image/png": "[encoded data removed]",
      "text/plain": [
       "<Figure size 432x288 with 1 Axes>"
      ]
     },
     "metadata": {
      "needs_background": "light"
     },
     "output_type": "display_data"
    }
   ],
   "source": [
    "XX = np.linspace(np.min(kt), np.max(kt), 1000)\n",
    "YY = funct_1(XX,C1,C2,a1,a2)\n",
    "plt.plot(kt, LL, '.', color='tab:green')\n",
    "plt.plot(XX, YY)\n",
    "plt.grid()\n",
    "pass"
   ]
  },
  {
   "cell_type": "code",
   "execution_count": 61,
   "metadata": {},
   "outputs": [],
   "source": [
    "def funct_e(t,a1, a2):\n",
    "    return math.e**(-t/a1) + math.e**(-t/a2)"
   ]
  },
  {
   "cell_type": "code",
   "execution_count": 62,
   "metadata": {},
   "outputs": [
    {
     "data": {
      "text/plain": [
       "(8.078306231310245, 5.74676198224591)"
      ]
     },
     "execution_count": 62,
     "metadata": {},
     "output_type": "execute_result"
    }
   ],
   "source": [
    "res, _ = optimize.curve_fit(funct_e,t,L)\n",
    "a1,a2 = res\n",
    "a1,a2"
   ]
  },
  {
   "cell_type": "markdown",
   "metadata": {},
   "source": [
    "### Нанесём полученные данные на график, с использованием в формуле только экспоненты"
   ]
  },
  {
   "cell_type": "code",
   "execution_count": 63,
   "metadata": {},
   "outputs": [
    {
     "data": {
      "image/png": "[encoded data removed]",
      "text/plain": [
       "<Figure size 432x288 with 1 Axes>"
      ]
     },
     "metadata": {
      "needs_background": "light"
     },
     "output_type": "display_data"
    }
   ],
   "source": [
    "XX = np.linspace(np.min(t), np.max(t), 10000)\n",
    "YY = funct_e(XX,a1,a2)\n",
    "plt.plot(t, L, '.', color='tab:red')\n",
    "plt.plot(XX, YY)\n",
    "plt.grid()\n",
    "pass"
   ]
  },
  {
   "cell_type": "markdown",
   "metadata": {},
   "source": [
    "### Уменьшим количество входных данных"
   ]
  },
  {
   "cell_type": "code",
   "execution_count": 64,
   "metadata": {},
   "outputs": [],
   "source": [
    "def funct_e1(kt,a1, a2):\n",
    "    return math.e**(-kt/a1) + math.e**(-kt/a2)"
   ]
  },
  {
   "cell_type": "code",
   "execution_count": 65,
   "metadata": {},
   "outputs": [
    {
     "data": {
      "text/plain": [
       "(0.10686917489283232, 9.302094731491177)"
      ]
     },
     "execution_count": 65,
     "metadata": {},
     "output_type": "execute_result"
    }
   ],
   "source": [
    "res, _ = optimize.curve_fit(funct_e1,kt,LL)\n",
    "a1,a2 = res\n",
    "a1,a2"
   ]
  },
  {
   "cell_type": "code",
   "execution_count": 66,
   "metadata": {},
   "outputs": [
    {
     "data": {
      "image/png": "[encoded data removed]",
      "text/plain": [
       "<Figure size 432x288 with 1 Axes>"
      ]
     },
     "metadata": {
      "needs_background": "light"
     },
     "output_type": "display_data"
    }
   ],
   "source": [
    "XX = np.linspace(np.min(kt), np.max(kt), 100)\n",
    "YY = funct_e1(XX,a1,a2)\n",
    "plt.plot(kt, LL, '.', color='tab:red')\n",
    "plt.plot(XX, YY)\n",
    "plt.grid()\n",
    "pass"
   ]
  },
  {
   "cell_type": "markdown",
   "metadata": {},
   "source": [
    "### Найдём результирующую сумарную ошибку:"
   ]
  },
  {
   "cell_type": "code",
   "execution_count": 67,
   "metadata": {},
   "outputs": [
    {
     "data": {
      "text/plain": [
       "0.11843621326548763"
      ]
     },
     "execution_count": 67,
     "metadata": {},
     "output_type": "execute_result"
    }
   ],
   "source": [
    "#Входные данные\n",
    "np.sqrt(np.sum((funct(t,C1,C2,a1,a2))/len(t))**2)"
   ]
  },
  {
   "cell_type": "code",
   "execution_count": 68,
   "metadata": {},
   "outputs": [
    {
     "data": {
      "text/plain": [
       "0.05995235630533778"
      ]
     },
     "execution_count": 68,
     "metadata": {},
     "output_type": "execute_result"
    }
   ],
   "source": [
    "#Изменённые входные данные\n",
    "np.sqrt(np.sum((funct_1(kt,C1,C2,a1,a2))/len(kt))**2)"
   ]
  },
  {
   "cell_type": "code",
   "execution_count": 69,
   "metadata": {},
   "outputs": [
    {
     "data": {
      "text/plain": [
       "0.11531640527767638"
      ]
     },
     "execution_count": 69,
     "metadata": {},
     "output_type": "execute_result"
    }
   ],
   "source": [
    "#Только экспонента\n",
    "np.sqrt(np.sum((funct_e(t,a1,a2))/len(t))**2)"
   ]
  },
  {
   "cell_type": "code",
   "execution_count": 70,
   "metadata": {},
   "outputs": [
    {
     "data": {
      "text/plain": [
       "0.05837311094673932"
      ]
     },
     "execution_count": 70,
     "metadata": {},
     "output_type": "execute_result"
    }
   ],
   "source": [
    "#Изменённые входные данные с использованием только экспоненты\n",
    "np.sqrt(np.sum((funct_e1(kt,a1,a2))/len(kt))**2)"
   ]
  },
  {
   "cell_type": "markdown",
   "metadata": {},
   "source": [
    "## Насколько чувствительны результирующие значения к начальным значениям?\n",
    "\n",
    "### При уменьшении количества входных данных уменьшается погрешность,но при этом график становится менее точным.\n",
    "\n",
    "### На примере использования только экспоненты, это видно ещё более отчётливее, уменьшив количество входных данных уменьшилась и погрешность, но график стал более не точным"
   ]
  },
  {
   "cell_type": "code",
   "execution_count": null,
   "metadata": {},
   "outputs": [],
   "source": []
  }
 ],
 "metadata": {
  "kernelspec": {
   "display_name": "Python 3",
   "language": "python",
   "name": "python3"
  },
  "language_info": {
   "codemirror_mode": {
    "name": "ipython",
    "version": 3
   },
   "file_extension": ".py",
   "mimetype": "text/x-python",
   "name": "python",
   "nbconvert_exporter": "python",
   "pygments_lexer": "ipython3",
   "version": "3.7.4"
  }
 },
 "nbformat": 4,
 "nbformat_minor": 2
}
